{
 "metadata": {
  "name": ""
 },
 "nbformat": 3,
 "nbformat_minor": 0,
 "worksheets": [
  {
   "cells": [
    {
     "cell_type": "code",
     "collapsed": false,
     "input": [
      "import operator\n",
      "import imp\n",
      "imp.reload(lib)"
     ],
     "language": "python",
     "metadata": {},
     "outputs": [
      {
       "metadata": {},
       "output_type": "pyout",
       "prompt_number": 264,
       "text": [
        "<module 'lib' from 'lib.pyc'>"
       ]
      }
     ],
     "prompt_number": 264
    },
    {
     "cell_type": "code",
     "collapsed": false,
     "input": [
      "data = lib.init_real_data_v1()"
     ],
     "language": "python",
     "metadata": {},
     "outputs": [],
     "prompt_number": 265
    },
    {
     "cell_type": "code",
     "collapsed": false,
     "input": [
      "data.keys()"
     ],
     "language": "python",
     "metadata": {},
     "outputs": [
      {
       "metadata": {},
       "output_type": "pyout",
       "prompt_number": 266,
       "text": [
        "['flat_tags', 'expenses', 'tags']"
       ]
      }
     ],
     "prompt_number": 266
    },
    {
     "cell_type": "code",
     "collapsed": false,
     "input": [
      "import imp\n",
      "dir(lib)\n",
      "imp.reload(lib)\n",
      "lib.display_tree(data['tags'])"
     ],
     "language": "python",
     "metadata": {},
     "outputs": [
      {
       "html": [
        "<li><span>Car</span><ul><li><span>Petrol</span></li><li><span>Parking</span></li></ul></li><li><span>Transport</span><ul><li><span>Minibus</span></li><li><span>Minibus k-c</span></li><li><span>Metro</span></li></ul></li><li><span>Medicine</span><ul><li><span>Napkins</span></li><li><span>Drags</span></li></ul></li><li><span>Sport</span><ul><li><span>SEquipment</span></li></ul></li><li><span>Meal</span><ul><li><span>Lunch</span></li><li><span>Dinner</span></li><li><span>Supper</span></li></ul></li><li><span>Bank</span><ul><li><span>EDrinks</span></li><li><span>Billiards</span></li><li><span>Entertainment</span></li></ul></li><li><span>Hostel</span></li>"
       ],
       "metadata": {},
       "output_type": "pyout",
       "prompt_number": 267,
       "text": [
        "<IPython.core.display.HTML at 0x7fba180ecb50>"
       ]
      }
     ],
     "prompt_number": 267
    },
    {
     "cell_type": "code",
     "collapsed": false,
     "input": [
      "expenses = data['expenses']\n",
      "flat_tags = {}\n",
      "for expense in expenses:\n",
      "    tag = expense[2]\n",
      "    if tag not in flat_tags:\n",
      "        flat_tags[tag] = dict(\n",
      "            volume=0,\n",
      "            expenses=[]\n",
      "        )\n",
      "    flat_tags[tag]['volume'] = flat_tags[tag]['volume'] + float(expense[1].replace(',', '.')) \n",
      "    flat_tags[tag]['expenses'].append(expense)"
     ],
     "language": "python",
     "metadata": {},
     "outputs": [],
     "prompt_number": 268
    },
    {
     "cell_type": "code",
     "collapsed": false,
     "input": [
      "from pylab import *"
     ],
     "language": "python",
     "metadata": {},
     "outputs": [],
     "prompt_number": 269
    },
    {
     "cell_type": "code",
     "collapsed": false,
     "input": [
      "from collections import OrderedDict\n",
      "flat_tags = OrderedDict(sorted(flat_tags.iteritems(), key=lambda (k, v): v['volume'], reverse=True))"
     ],
     "language": "python",
     "metadata": {},
     "outputs": [],
     "prompt_number": 270
    },
    {
     "cell_type": "code",
     "collapsed": false,
     "input": [
      "tag_names = flat_tags.keys()"
     ],
     "language": "python",
     "metadata": {},
     "outputs": [],
     "prompt_number": 271
    },
    {
     "cell_type": "code",
     "collapsed": false,
     "input": [
      "volumes = [tag['volume'] for tag_name, tag in flat_tags.items() ]"
     ],
     "language": "python",
     "metadata": {},
     "outputs": [],
     "prompt_number": 272
    },
    {
     "cell_type": "code",
     "collapsed": false,
     "input": [
      "tag_names, volumes"
     ],
     "language": "python",
     "metadata": {},
     "outputs": [
      {
       "metadata": {},
       "output_type": "pyout",
       "prompt_number": 273,
       "text": [
        "(['Hostel',\n",
        "  'Dinner',\n",
        "  'Minibus k-c',\n",
        "  'Lunch',\n",
        "  'SEquipment',\n",
        "  'Supper',\n",
        "  'Entertainment',\n",
        "  'Drags',\n",
        "  'EDrinks',\n",
        "  'Phone',\n",
        "  'Clothes',\n",
        "  'Metro',\n",
        "  'Billiards',\n",
        "  'Bank',\n",
        "  'Napkins'],\n",
        " [1200.0,\n",
        "  768.75,\n",
        "  650.0,\n",
        "  511.78000000000003,\n",
        "  387.0,\n",
        "  277.0,\n",
        "  200.0,\n",
        "  170.99,\n",
        "  140.0,\n",
        "  100.0,\n",
        "  100.0,\n",
        "  52.0,\n",
        "  28.0,\n",
        "  15.0,\n",
        "  5.32])"
       ]
      }
     ],
     "prompt_number": 273
    },
    {
     "cell_type": "code",
     "collapsed": false,
     "input": [
      "fig = plt.figure(figsize=(14, 4), dpi=200)\n",
      "axes = fig.add_axes([0.1, 0.1, 0.8, 0.8]) # left, bottom, width, height (range 0 to 1)\n",
      "ticks = range(len(flat_tags))\n",
      "axes.set_xticks(ticks)\n",
      "axes.set_xticklabels(flat_tags.keys(), fontsize=8)\n",
      "axes.bar(ticks, volumes)\n",
      "axes.set_xlabel('tag')\n",
      "axes.set_ylabel('UAX')\n",
      "axes.set_title('Expenses grouped by tags.');"
     ],
     "language": "python",
     "metadata": {},
     "outputs": [
      {
       "metadata": {},
       "output_type": "display_data",
       "png": "[encoded data removed]",
       "text": [
        "<matplotlib.figure.Figure at 0x7fba1849de10>"
       ]
      }
     ],
     "prompt_number": 279
    },
    {
     "cell_type": "code",
     "collapsed": false,
     "input": [],
     "language": "python",
     "metadata": {},
     "outputs": []
    }
   ],
   "metadata": {}
  }
 ]
}