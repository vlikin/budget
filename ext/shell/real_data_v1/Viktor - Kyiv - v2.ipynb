{
 "metadata": {
  "name": ""
 },
 "nbformat": 3,
 "nbformat_minor": 0,
 "worksheets": [
  {
   "cells": [
    {
     "cell_type": "code",
     "collapsed": false,
     "input": [
      "import os\n",
      "import imp\n",
      "import lib.lib as lib\n",
      "imp.reload(lib)"
     ],
     "language": "python",
     "metadata": {},
     "outputs": [
      {
       "metadata": {},
       "output_type": "pyout",
       "prompt_number": 7,
       "text": [
        "<module 'lib.lib' from 'lib/lib.pyc'>"
       ]
      }
     ],
     "prompt_number": 7
    },
    {
     "cell_type": "code",
     "collapsed": false,
     "input": [
      "data_folder = './'\n",
      "tags_path = os.path.join(data_folder, 'tags.json')\n",
      "expenses_path = os.path.join(data_folder, 'expenses.csv')\n",
      "loaded_tags = lib.load_tags(tags_path)\n",
      "tags = lib.prepare_tags(loaded_tags)\n",
      "flat_tags = lib.get_flat_tags(tags)\n",
      "expenses = lib.load_expenses(expenses_path)\n",
      "lib.attach_expenses2tags(expenses, tags)\n",
      "lib.calculate_tags_capacity(tags)"
     ],
     "language": "python",
     "metadata": {},
     "outputs": [],
     "prompt_number": 5
    },
    {
     "cell_type": "code",
     "collapsed": false,
     "input": [
      "lib.display_tree(tags)"
     ],
     "language": "python",
     "metadata": {},
     "outputs": [
      {
       "html": [
        "<li><span>Car</span><ul><li><span>Petrol</span></li><li><span>Parking</span></li></ul></li><li><span>Phone</span></li><li><span>Bank</span><ul><li><span>Billiards</span></li><li><span>Entertainment</span></li><li><span>EDrinks</span></li></ul></li><li><span>Hostel</span></li><li><span>Medicine</span><ul><li><span>Napkins</span></li><li><span>Drags</span></li></ul></li><li><span>Sport</span><ul><li><span>SEquipment</span></li></ul></li><li><span>Meal</span><ul><li><span>Lunch</span></li><li><span>Dinner</span></li><li><span>Supper</span></li></ul></li><li><span>Transport</span><ul><li><span>Minibus</span></li><li><span>Minibus k-c</span></li><li><span>Metro</span></li></ul></li><li><span>Clothes</span></li>"
       ],
       "metadata": {},
       "output_type": "pyout",
       "prompt_number": 6,
       "text": [
        "<IPython.core.display.HTML at 0x7fd20c09fed0>"
       ]
      }
     ],
     "prompt_number": 6
    },
    {
     "cell_type": "code",
     "collapsed": false,
     "input": [],
     "language": "python",
     "metadata": {},
     "outputs": []
    }
   ],
   "metadata": {}
  }
 ]
}