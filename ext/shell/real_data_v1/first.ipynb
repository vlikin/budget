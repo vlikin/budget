{
 "metadata": {
  "name": ""
 },
 "nbformat": 3,
 "nbformat_minor": 0,
 "worksheets": [
  {
   "cells": [
    {
     "cell_type": "code",
     "collapsed": false,
     "input": [
      "import imp\n",
      "imp.reload(lib)"
     ],
     "language": "python",
     "metadata": {},
     "outputs": [
      {
       "metadata": {},
       "output_type": "pyout",
       "prompt_number": 29,
       "text": [
        "<module 'lib' from 'lib.py'>"
       ]
      }
     ],
     "prompt_number": 29
    },
    {
     "cell_type": "code",
     "collapsed": false,
     "input": [
      "dir(lib)"
     ],
     "language": "python",
     "metadata": {},
     "outputs": [
      {
       "metadata": {},
       "output_type": "pyout",
       "prompt_number": 30,
       "text": [
        "['HTML',\n",
        " '__builtins__',\n",
        " '__doc__',\n",
        " '__file__',\n",
        " '__name__',\n",
        " '__package__',\n",
        " 'csv',\n",
        " 'display_tree',\n",
        " 'init_real_data_v1',\n",
        " 'json',\n",
        " 'os']"
       ]
      }
     ],
     "prompt_number": 30
    },
    {
     "cell_type": "code",
     "collapsed": false,
     "input": [
      "data = lib.init_real_data_v1()"
     ],
     "language": "python",
     "metadata": {},
     "outputs": [
      {
       "output_type": "stream",
       "stream": "stdout",
       "text": [
        "The process \"init_real_data_v1\" has been started.\n",
        "path - /home/viktor/github/vlikin/budget/ext/shell/real_data_v1\n"
       ]
      }
     ],
     "prompt_number": 31
    },
    {
     "cell_type": "code",
     "collapsed": false,
     "input": [
      "data.keys()"
     ],
     "language": "python",
     "metadata": {},
     "outputs": [
      {
       "metadata": {},
       "output_type": "pyout",
       "prompt_number": 38,
       "text": [
        "['flat_tags', 'expenses', 'tags']"
       ]
      }
     ],
     "prompt_number": 38
    },
    {
     "cell_type": "code",
     "collapsed": false,
     "input": [
      "import imp\n",
      "dir(lib)\n",
      "imp.reload(lib)\n",
      "lib.display_tree(data['tags'])"
     ],
     "language": "python",
     "metadata": {},
     "outputs": [
      {
       "html": [
        "<li><span>Car</span><ul><li><span>Petrol</span></li><li><span>Parking</span></li></ul></li><li><span>Transport</span><ul><li><span>Minibus</span></li><li><span>Minibus k-c</span></li><li><span>Metro</span></li></ul></li><li><span>Medicine</span><ul><li><span>Napkins</span></li><li><span>Drags</span></li></ul></li><li><span>Sport</span><ul><li><span>SEquipment</span></li></ul></li><li><span>Meal</span><ul><li><span>Lunch</span></li><li><span>Dinner</span></li><li><span>Supper</span></li></ul></li><li><span>Bank</span><ul><li><span>EDrinks</span></li><li><span>Billiards</span></li><li><span>Entertainment</span></li></ul></li><li><span>Hostel</span></li>"
       ],
       "metadata": {},
       "output_type": "pyout",
       "prompt_number": 39,
       "text": [
        "<IPython.core.display.HTML at 0x7fba1841a590>"
       ]
      }
     ],
     "prompt_number": 39
    },
    {
     "cell_type": "code",
     "collapsed": false,
     "input": [
      "expenses = data['expenses']\n",
      "flat_tags = {}\n",
      "for expense in expenses:\n",
      "    tag = expense[2]\n",
      "    if tag not in flat_tags:\n",
      "        flat_tags[tag] = dict(\n",
      "            volume=0,\n",
      "            expenses=[]\n",
      "        )\n",
      "    flat_tags[tag]['volume'] = flat_tags[tag]['volume'] + float(expense[1].replace(',', '.')) \n",
      "    flat_tags[tag]['expenses'].append(expense)"
     ],
     "language": "python",
     "metadata": {},
     "outputs": [],
     "prompt_number": 41
    },
    {
     "cell_type": "code",
     "collapsed": false,
     "input": [
      "from pylab import *"
     ],
     "language": "python",
     "metadata": {},
     "outputs": [],
     "prompt_number": 42
    },
    {
     "cell_type": "code",
     "collapsed": false,
     "input": [
      "tag_names = flat_tags.keys()"
     ],
     "language": "python",
     "metadata": {},
     "outputs": [],
     "prompt_number": 52
    },
    {
     "cell_type": "code",
     "collapsed": false,
     "input": [
      "volumes = [tag['volume'] for tag_name, tag in flat_tags.items() ]"
     ],
     "language": "python",
     "metadata": {},
     "outputs": [],
     "prompt_number": 51
    },
    {
     "cell_type": "code",
     "collapsed": false,
     "input": [
      "tag_names, volumes"
     ],
     "language": "python",
     "metadata": {},
     "outputs": [
      {
       "metadata": {},
       "output_type": "pyout",
       "prompt_number": 53,
       "text": [
        "(['Metro',\n",
        "  'Entertainment',\n",
        "  'Billiards',\n",
        "  'Lunch',\n",
        "  'Dinner',\n",
        "  'Napkins',\n",
        "  'Drags',\n",
        "  'Minibus k-c',\n",
        "  'Supper',\n",
        "  'Bank',\n",
        "  'Hostel'],\n",
        " [32.0,\n",
        "  200.0,\n",
        "  28.0,\n",
        "  417.53000000000003,\n",
        "  397.0,\n",
        "  5.32,\n",
        "  125.99,\n",
        "  260.0,\n",
        "  161.5,\n",
        "  15.0,\n",
        "  800.0])"
       ]
      }
     ],
     "prompt_number": 53
    },
    {
     "cell_type": "code",
     "collapsed": false,
     "input": [
      "fig = plt.figure()\n",
      "axes = fig.add_axes([0.1, 0.1, 0.8, 0.8]) # left, bottom, width, height (range 0 to 1)\n",
      "ticks = range(len(flat_tags))\n",
      "axes.set_xticks(ticks)\n",
      "axes.set_xticklabels(flat_tags.keys(), fontsize=8)\n",
      "axes.bar(ticks, volumes)\n",
      "axes.set_xlabel('tag')\n",
      "axes.set_ylabel('UAX')\n",
      "axes.set_title('Expenses grouped by tags.');"
     ],
     "language": "python",
     "metadata": {},
     "outputs": [
      {
       "output_type": "stream",
       "stream": "stdout",
       "text": [
        "[0, 1, 2, 3, 4, 5, 6, 7, 8, 9, 10]\n"
       ]
      },
      {
       "metadata": {},
       "output_type": "display_data",
       "png": "[encoded data removed]",
       "text": [
        "<matplotlib.figure.Figure at 0x7fba183e0e90>"
       ]
      }
     ],
     "prompt_number": 71
    }
   ],
   "metadata": {}
  }
 ]
}